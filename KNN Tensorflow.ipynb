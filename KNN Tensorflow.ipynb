{
 "cells": [
  {
   "cell_type": "code",
   "execution_count": 23,
   "id": "authentic-peeing",
   "metadata": {},
   "outputs": [],
   "source": [
    "import tensorflow as tf\n",
    "from sklearn.datasets import load_iris\n",
    "from collections import Counter\n"
   ]
  },
  {
   "cell_type": "code",
   "execution_count": 80,
   "id": "internal-intranet",
   "metadata": {},
   "outputs": [
    {
     "name": "stdout",
     "output_type": "stream",
     "text": [
      "dict_keys(['data', 'target', 'frame', 'target_names', 'DESCR', 'feature_names', 'filename'])\n"
     ]
    },
    {
     "data": {
      "text/plain": [
       "((120, 4), (120,))"
      ]
     },
     "execution_count": 80,
     "metadata": {},
     "output_type": "execute_result"
    }
   ],
   "source": [
    "iris = load_iris()\n",
    "print(iris.keys())\n",
    "X = iris[\"data\"]\n",
    "Y = iris[\"target\"]\n",
    "\n",
    "def shuffleDataset(X,Y,test_size):\n",
    "    \"\"\"\n",
    "    Shuffle The DAtaset\n",
    "    \"\"\"\n",
    "    shuffledIndx = int(len(X) * test_size)\n",
    "    X_train = X[shuffledIndx:]\n",
    "    Y_train = Y[shuffledIndx:]\n",
    "    \n",
    "    X_test = X[:shuffledIndx]\n",
    "    Y_test = Y[:shuffledIndx]\n",
    "        \n",
    "    return X_train,X_test,Y_train,Y_test\n",
    "x_train,x_test,y_train,y_test = shuffleDataset(X,Y,0.2)\n",
    "x_train.shape,y_train.shape\n"
   ]
  },
  {
   "cell_type": "code",
   "execution_count": 81,
   "id": "ceramic-short",
   "metadata": {},
   "outputs": [
    {
     "data": {
      "text/plain": [
       "2"
      ]
     },
     "execution_count": 81,
     "metadata": {},
     "output_type": "execute_result"
    }
   ],
   "source": [
    "Counter([1,2,3,4]).most_common(2)[1][0]"
   ]
  },
  {
   "cell_type": "code",
   "execution_count": 107,
   "id": "false-guyana",
   "metadata": {},
   "outputs": [
    {
     "name": "stdout",
     "output_type": "stream",
     "text": [
      "tf.Tensor(1.0, shape=(), dtype=float64)\n"
     ]
    },
    {
     "data": {
      "text/plain": [
       "<tf.Tensor: shape=(), dtype=float64, numpy=1.0>"
      ]
     },
     "execution_count": 107,
     "metadata": {},
     "output_type": "execute_result"
    }
   ],
   "source": [
    "def euclidean_distance(x_train,x_test):\n",
    "    \"\"\"\n",
    "    Calculate the euclidean Distance!\n",
    "    \"\"\"\n",
    "    return tf.sqrt(tf.reduce_sum( (x_train - x_test)**2 ))\n",
    "def accuracy(y_true,y_pred):\n",
    "    ans = tf.reduce_sum( tf.cast ( tf.equal( tf.convert_to_tensor(y_true,dtype=tf.int64),y_pred) ,\n",
    "                                  dtype=tf.float64),axis=None,) / len(y_true)\n",
    "    print(ans)\n",
    "    return ans\n",
    "class KNN:\n",
    "    \n",
    "    def __init__(self,k=3):\n",
    "        self.k = k\n",
    "    \n",
    "    def fit(self,x_train,y_train):\n",
    "        self.x = x_train\n",
    "        self.y = y_train\n",
    "    \n",
    "    def predict(self,x_test):\n",
    "        y_pred = [self.do_prediction(x) for x in x_test]\n",
    "        return tf.Variable(y_pred,dtype=tf.int64)\n",
    "    \n",
    "    \n",
    "    def do_prediction(self,x_test_val):\n",
    "        # Compute euclidean distance between x_test to all points\n",
    "        distances = [euclidean_distance(x_test_val,x_val) for x_val in self.x]\n",
    "        # get the index for the most lowest value \n",
    "        K_index = tf.argsort(distances)[:self.k]\n",
    "        # get the labels \n",
    "        k_labels = [self.y[indx] for indx in K_index]\n",
    "        # return the most class labels < So if theres 2 labels 0 and 1 labels 1 then choose 2\n",
    "        return Counter(k_labels).most_common(1)[0][0]\n",
    "    \n",
    "accuracy(y_train,y_train)"
   ]
  },
  {
   "cell_type": "code",
   "execution_count": 108,
   "id": "tired-correspondence",
   "metadata": {},
   "outputs": [
    {
     "name": "stdout",
     "output_type": "stream",
     "text": [
      "tf.Tensor(1.0, shape=(), dtype=float64)\n",
      "Knn 1.000000\n"
     ]
    }
   ],
   "source": [
    "k = 3\n",
    "Knn = KNN(k)\n",
    "Knn.fit(x_train,y_train)\n",
    "predictions =  Knn.predict(x_test)\n",
    "print(\"Knn %f\" % accuracy(y_test,predictions ))"
   ]
  },
  {
   "cell_type": "code",
   "execution_count": 109,
   "id": "eligible-fleece",
   "metadata": {},
   "outputs": [
    {
     "name": "stdout",
     "output_type": "stream",
     "text": [
      "tf.Tensor(0.95, shape=(), dtype=float64)\n",
      "Knn 0.950000\n"
     ]
    }
   ],
   "source": [
    "predictions = Knn.predict(x_train)\n",
    "print(\"Knn %f\" % accuracy(y_train,predictions))"
   ]
  },
  {
   "cell_type": "code",
   "execution_count": 110,
   "id": "august-invasion",
   "metadata": {},
   "outputs": [
    {
     "name": "stdout",
     "output_type": "stream",
     "text": [
      "[0 0 0 0 0 0 0 0 0 0 0 0 0 0 0 0 0 0 0 0 0 0 0 0 0 0 0 0 0 0]\n",
      "tf.Tensor(1.0, shape=(), dtype=float64)\n",
      " Knn Sklearn 1.000000\n"
     ]
    }
   ],
   "source": [
    "from sklearn.neighbors import KNeighborsClassifier\n",
    "knnsk = KNeighborsClassifier(3)\n",
    "knnsk.fit(x_train,y_train)\n",
    "pred = knnsk.predict(x_test)\n",
    "print(pred)\n",
    "print(\" Knn Sklearn %f\" % accuracy(y_test,pred))"
   ]
  },
  {
   "cell_type": "code",
   "execution_count": 111,
   "id": "billion-danger",
   "metadata": {},
   "outputs": [
    {
     "name": "stdout",
     "output_type": "stream",
     "text": [
      "[0 0 0 0 0 0 0 0 0 0 0 0 0 0 0 0 0 0 0 0 1 1 1 1 1 1 1 1 1 1 1 1 1 1 1 1 1\n",
      " 1 1 1 2 1 2 1 1 1 1 1 1 1 1 1 1 2 1 1 1 1 1 1 1 1 1 1 1 1 1 1 1 1 2 2 2 2\n",
      " 2 2 1 2 2 2 2 2 2 2 2 2 2 2 2 1 2 2 2 2 2 2 2 2 2 2 2 2 2 1 2 2 2 2 2 2 2\n",
      " 2 2 2 2 2 2 2 2 2]\n",
      "tf.Tensor(0.95, shape=(), dtype=float64)\n",
      "KNN Sklearn 0.950000\n"
     ]
    }
   ],
   "source": [
    "pred = knnsk.predict(x_train)\n",
    "print(pred)\n",
    "print(\"KNN Sklearn %f\" % accuracy(y_train,pred))"
   ]
  },
  {
   "cell_type": "code",
   "execution_count": null,
   "id": "durable-frank",
   "metadata": {},
   "outputs": [],
   "source": []
  },
  {
   "cell_type": "code",
   "execution_count": null,
   "id": "hawaiian-failing",
   "metadata": {},
   "outputs": [],
   "source": []
  },
  {
   "cell_type": "code",
   "execution_count": null,
   "id": "skilled-approval",
   "metadata": {},
   "outputs": [],
   "source": []
  },
  {
   "cell_type": "code",
   "execution_count": null,
   "id": "suitable-burden",
   "metadata": {},
   "outputs": [],
   "source": []
  },
  {
   "cell_type": "code",
   "execution_count": null,
   "id": "integrated-ozone",
   "metadata": {},
   "outputs": [],
   "source": []
  },
  {
   "cell_type": "code",
   "execution_count": null,
   "id": "particular-order",
   "metadata": {},
   "outputs": [],
   "source": []
  },
  {
   "cell_type": "code",
   "execution_count": null,
   "id": "dominant-sheriff",
   "metadata": {},
   "outputs": [],
   "source": []
  },
  {
   "cell_type": "code",
   "execution_count": null,
   "id": "warming-dollar",
   "metadata": {},
   "outputs": [],
   "source": []
  }
 ],
 "metadata": {
  "kernelspec": {
   "display_name": "Python 3",
   "language": "python",
   "name": "python3"
  },
  "language_info": {
   "codemirror_mode": {
    "name": "ipython",
    "version": 3
   },
   "file_extension": ".py",
   "mimetype": "text/x-python",
   "name": "python",
   "nbconvert_exporter": "python",
   "pygments_lexer": "ipython3",
   "version": "3.6.12"
  }
 },
 "nbformat": 4,
 "nbformat_minor": 5
}
