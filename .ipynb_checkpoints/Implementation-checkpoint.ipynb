{
 "cells": [
  {
   "cell_type": "code",
   "execution_count": 2,
   "id": "recorded-imaging",
   "metadata": {},
   "outputs": [
    {
     "data": {
      "text/plain": [
       "5"
      ]
     },
     "execution_count": 2,
     "metadata": {},
     "output_type": "execute_result"
    }
   ],
   "source": [
    "revenue = 0\n",
    "prices = [1,2]\n",
    "amounts= [1,2]\n",
    "for price,amount in zip(prices,amounts):\n",
    "    revenue += price * amount\n",
    "revenue"
   ]
  },
  {
   "cell_type": "code",
   "execution_count": 4,
   "id": "fewer-postage",
   "metadata": {},
   "outputs": [
    {
     "data": {
      "text/plain": [
       "5"
      ]
     },
     "execution_count": 4,
     "metadata": {},
     "output_type": "execute_result"
    }
   ],
   "source": [
    "import numpy as np\n",
    "revenue = np.dot(prices,amounts)\n",
    "revenue"
   ]
  },
  {
   "cell_type": "code",
   "execution_count": 5,
   "id": "professional-uruguay",
   "metadata": {},
   "outputs": [
    {
     "name": "stdout",
     "output_type": "stream",
     "text": [
      "2.1.0\n"
     ]
    }
   ],
   "source": [
    "import tensorflow as tf\n",
    "print(tf.__version__)"
   ]
  },
  {
   "cell_type": "code",
   "execution_count": 10,
   "id": "chubby-mercy",
   "metadata": {},
   "outputs": [
    {
     "name": "stdout",
     "output_type": "stream",
     "text": [
      "<class 'list'>\n",
      "<class 'numpy.ndarray'>\n",
      "<class 'tensorflow.python.framework.ops.EagerTensor'>\n",
      "<class 'tensorflow.python.framework.ops.EagerTensor'>\n",
      "<class 'tensorflow.python.framework.ops.EagerTensor'>\n",
      "<class 'tensorflow.python.framework.ops.EagerTensor'>\n"
     ]
    }
   ],
   "source": [
    "m1 = [[1,2,3,4]]\n",
    "m2 = np.array([[1,2,3,4]],dtype=np.float32)\n",
    "m3 = tf.constant([[1.0,2.0,3.0,4.0]],dtype=tf.float32)\n",
    "print(type(m1))\n",
    "print(type(m2))\n",
    "print(type(m3))\n",
    "\n",
    "t1 = tf.convert_to_tensor(m1,dtype=tf.float32)\n",
    "t2 = tf.convert_to_tensor(m2,dtype=tf.float32)\n",
    "t3 = tf.convert_to_tensor(m3,dtype=tf.float32)\n",
    "print(type(t1))\n",
    "print(type(t2))\n",
    "print(type(t3))\n"
   ]
  },
  {
   "cell_type": "code",
   "execution_count": 11,
   "id": "unusual-nursing",
   "metadata": {},
   "outputs": [
    {
     "name": "stdout",
     "output_type": "stream",
     "text": [
      "tf.Tensor([1 2], shape=(2,), dtype=int32)\n"
     ]
    }
   ],
   "source": [
    "t1 = tf.constant([1,2],name=\"kindergaten\")\n",
    "print(t1)"
   ]
  },
  {
   "cell_type": "code",
   "execution_count": 14,
   "id": "every-light",
   "metadata": {},
   "outputs": [
    {
     "data": {
      "text/plain": [
       "<tf.Tensor: shape=(500, 500), dtype=float32, numpy=\n",
       "array([[0.5, 0.5, 0.5, ..., 0.5, 0.5, 0.5],\n",
       "       [0.5, 0.5, 0.5, ..., 0.5, 0.5, 0.5],\n",
       "       [0.5, 0.5, 0.5, ..., 0.5, 0.5, 0.5],\n",
       "       ...,\n",
       "       [0.5, 0.5, 0.5, ..., 0.5, 0.5, 0.5],\n",
       "       [0.5, 0.5, 0.5, ..., 0.5, 0.5, 0.5],\n",
       "       [0.5, 0.5, 0.5, ..., 0.5, 0.5, 0.5]], dtype=float32)>"
      ]
     },
     "execution_count": 14,
     "metadata": {},
     "output_type": "execute_result"
    }
   ],
   "source": [
    "tf.ones(shape=(500,500) )* 0.5"
   ]
  },
  {
   "cell_type": "code",
   "execution_count": 16,
   "id": "duplicate-chain",
   "metadata": {},
   "outputs": [
    {
     "data": {
      "text/plain": [
       "<tf.Tensor: shape=(1, 2), dtype=int32, numpy=array([[-1, -2]])>"
      ]
     },
     "execution_count": 16,
     "metadata": {},
     "output_type": "execute_result"
    }
   ],
   "source": [
    "simple = tf.constant([[1,2]])\n",
    "simple = -simple\n",
    "simple"
   ]
  },
  {
   "cell_type": "code",
   "execution_count": 19,
   "id": "running-rebecca",
   "metadata": {},
   "outputs": [],
   "source": [
    "from math import pi\n",
    "def generate_gaussian(X,mean,std):\n",
    "    coef = 1 / (std * tf.sqrt(2*pi))\n",
    "    exparg = -(1/2) * tf.pow(((X-mean) / std),2)\n",
    "    exp = tf.exp(exparg)\n",
    "    return coef * exp"
   ]
  },
  {
   "cell_type": "code",
   "execution_count": 20,
   "id": "needed-reliance",
   "metadata": {},
   "outputs": [
    {
     "data": {
      "text/plain": [
       "<tf.Tensor: shape=(), dtype=float32, numpy=0.24197073>"
      ]
     },
     "execution_count": 20,
     "metadata": {},
     "output_type": "execute_result"
    }
   ],
   "source": [
    "generate_gaussian(2,1,1)"
   ]
  },
  {
   "cell_type": "code",
   "execution_count": 25,
   "id": "wicked-specialist",
   "metadata": {},
   "outputs": [
    {
     "name": "stdout",
     "output_type": "stream",
     "text": [
      "[[-1. -2.]]\n"
     ]
    }
   ],
   "source": [
    "# Section Using Tf 1.0\n",
    "\n",
    "with tf.compat.v1.Session() as sess:\n",
    "    x = tf.constant([[1.,2.]])\n",
    "    neg = tf.negative(x)\n",
    "    result = sess.run(neg)\n",
    "print(result)"
   ]
  },
  {
   "cell_type": "code",
   "execution_count": 26,
   "id": "framed-closer",
   "metadata": {},
   "outputs": [
    {
     "name": "stdout",
     "output_type": "stream",
     "text": [
      "[[-1 -2]]\n"
     ]
    }
   ],
   "source": [
    "# Section use Tf 2.0\n",
    "x = tf.constant([[1,2]])\n",
    "neg_mat = -x\n",
    "print(neg_mat.numpy())\n"
   ]
  },
  {
   "cell_type": "markdown",
   "id": "recognized-bleeding",
   "metadata": {},
   "source": [
    "## Core Tensorflow \n",
    "#### Placeholder -- Biasa untuk input dan output\n",
    "#### Variable -- Mutable\n",
    "#### Constant -- Immutable"
   ]
  },
  {
   "cell_type": "code",
   "execution_count": 28,
   "id": "grateful-madison",
   "metadata": {},
   "outputs": [
    {
     "name": "stdout",
     "output_type": "stream",
     "text": [
      "WARNING:tensorflow:From C:\\Users\\xwyzworm\\anaconda3\\envs\\DataScience\\lib\\site-packages\\tensorflow_core\\python\\compat\\v2_compat.py:88: disable_resource_variables (from tensorflow.python.ops.variable_scope) is deprecated and will be removed in a future version.\n",
      "Instructions for updating:\n",
      "non-resource variables are not supported in the long term\n"
     ]
    }
   ],
   "source": [
    "import tensorflow.compat.v1 as tf1\n",
    "tf1.disable_v2_behavior()"
   ]
  },
  {
   "cell_type": "code",
   "execution_count": 30,
   "id": "burning-southwest",
   "metadata": {},
   "outputs": [
    {
     "name": "stdout",
     "output_type": "stream",
     "text": [
      "[-1 -2]\n"
     ]
    }
   ],
   "source": [
    "sess = tf1.compat.v1.InteractiveSession()\n",
    "x = tf.constant([1,2])\n",
    "negMatrix = -x\n",
    "result = negMatrix.eval()\n",
    "print(result)\n",
    "sess.close()"
   ]
  },
  {
   "cell_type": "code",
   "execution_count": 35,
   "id": "personalized-musician",
   "metadata": {},
   "outputs": [
    {
     "name": "stdout",
     "output_type": "stream",
     "text": [
      "2.1.0\n"
     ]
    }
   ],
   "source": [
    "import tensorflow as tf\n",
    "print(tf.__version__)"
   ]
  },
  {
   "cell_type": "code",
   "execution_count": 1,
   "id": "sophisticated-license",
   "metadata": {},
   "outputs": [
    {
     "name": "stdout",
     "output_type": "stream",
     "text": [
      "tf.Tensor([1 2], shape=(2,), dtype=int32)\n"
     ]
    }
   ],
   "source": [
    "#Tensorflow automatically determines using cpu or gpu for doing such operations\n",
    "import tensorflow as tf\n",
    "tf.debugging.set_log_device_placement(True)\n",
    "x = tf.constant([1,2])\n",
    "print(x)"
   ]
  },
  {
   "cell_type": "code",
   "execution_count": 19,
   "id": "hearing-community",
   "metadata": {},
   "outputs": [
    {
     "name": "stdout",
     "output_type": "stream",
     "text": [
      "Spike False\n",
      "Spike False\n",
      "Spike False\n",
      "Spike False\n",
      "Spike False\n",
      "Spike True\n",
      "<class 'tensorflow.python.ops.resource_variable_ops.ResourceVariable'>\n"
     ]
    }
   ],
   "source": [
    "#using tf variables\n",
    "raw_data = [1,2,3,4,9,6,13]\n",
    "spike = tf.Variable(False)\n",
    "\n",
    "for i in range(1,len(raw_data)):\n",
    "    if raw_data[i] - raw_data[i-1] > 5:\n",
    "        spike.assign(True)\n",
    "    else:\n",
    "        spike.assign(False)\n",
    "    print(f\"Spike {spike.numpy()}\")\n",
    "print(type(spike))"
   ]
  },
  {
   "cell_type": "code",
   "execution_count": 9,
   "id": "mediterranean-asian",
   "metadata": {},
   "outputs": [
    {
     "name": "stdout",
     "output_type": "stream",
     "text": [
      "Saved Checkpoint at : ./tf_checkpoinVar\\ckpt-1\n",
      "Saved Checkpoint at : ./tf_checkpoinVar\\ckpt-2\n",
      "Saved Checkpoint at : ./tf_checkpoinVar\\ckpt-3\n",
      "[False  True  True  True False False False]\n"
     ]
    }
   ],
   "source": [
    "# Saving Variables\n",
    "raw_dat = [1,9,8,9,1,3,6]\n",
    "spikes = tf.Variable([False] * len(raw_dat),name=\"spikes\") # Behaviour different with other variables\n",
    "\n",
    "checkPoint = tf.train.Checkpoint(spikes=spikes)\n",
    "manager = tf.train.CheckpointManager(checkPoint, './tf_checkpoinVar',max_to_keep=3)\n",
    "\n",
    "spikes_Val = [False for i in range(0,len(raw_dat))] # Need to generate before assigned data to spikes\n",
    "\n",
    "for i in range(1,len(raw_dat)):\n",
    "    if raw_dat[i] - raw_data[i-1] > 5 :\n",
    "        spikes_Val[i] = True\n",
    "        spikes.assign(spikes_Val)\n",
    "        save_path = manager.save()\n",
    "        print(\"Saved Checkpoint at : %s\"% save_path)\n",
    "print(spikes.numpy())"
   ]
  },
  {
   "cell_type": "code",
   "execution_count": 13,
   "id": "taken-consumer",
   "metadata": {},
   "outputs": [
    {
     "name": "stdout",
     "output_type": "stream",
     "text": [
      "Restored from ./tf_checkpoinVar\\ckpt-3\n",
      "<tensorflow.python.training.tracking.util.CheckpointLoadStatus object at 0x000001B84DB88278>\n",
      "<tf.Variable 'spikes:0' shape=(7,) dtype=bool, numpy=array([False,  True,  True,  True, False, False, False])>\n"
     ]
    }
   ],
   "source": [
    "# Loading Tf Variables\n",
    "checkPoint.restore(manager.latest_checkpoint)\n",
    "if manager.latest_checkpoint:\n",
    "    print(\"Restored from %s\" % manager.latest_checkpoint)\n",
    "to_restore = tf.Variable([False] * len(raw_dat),name=\"spikes\")\n",
    "restored =tf.train.Checkpoint(spikes = to_restore)\n",
    "status = restored.restore(tf.train.latest_checkpoint(\"./tf_checkpoinVar\"))\n",
    "print(to_restore)"
   ]
  },
  {
   "cell_type": "code",
   "execution_count": 24,
   "id": "cardiovascular-archive",
   "metadata": {},
   "outputs": [],
   "source": [
    "import tensorflow as tf\n",
    "import numpy as np\n",
    "@tf.function # Biasain add tf function kesetiap fungsi yang aakdipake oleh tensorflow\n",
    "def update_avg(alpha,curr_value,prev_avg):\n",
    "    return alpha * curr_value + (1 - alpha) *prev_avg"
   ]
  },
  {
   "cell_type": "code",
   "execution_count": 22,
   "id": "finished-oklahoma",
   "metadata": {},
   "outputs": [
    {
     "name": "stdout",
     "output_type": "stream",
     "text": [
      "3\n",
      "True\n"
     ]
    }
   ],
   "source": [
    "exam = tf.Variable(32)\n",
    "exam.assign(2)\n",
    "exam.assign(3)\n",
    "print(exam.numpy())\n",
    "print(spike.numpy())"
   ]
  },
  {
   "cell_type": "code",
   "execution_count": 27,
   "id": "center-paris",
   "metadata": {},
   "outputs": [
    {
     "name": "stdout",
     "output_type": "stream",
     "text": [
      "tf.Tensor(\n",
      "[10.98510067 10.11325415  8.66594021 12.58618385  9.3027711  10.21963813\n",
      "  9.5021281  12.31605442 11.39512249], shape=(9,), dtype=float64)\n"
     ]
    }
   ],
   "source": [
    "raw_data : np.ndarray = np.random.normal(10,1,100)\n",
    "raw_data : tf.Tensor = tf.convert_to_tensor(raw_data)\n",
    "print(raw_data[1:10])\n",
    "print(tf.math)"
   ]
  },
  {
   "cell_type": "code",
   "execution_count": 32,
   "id": "orange-philip",
   "metadata": {},
   "outputs": [
    {
     "name": "stdout",
     "output_type": "stream",
     "text": [
      "CurrentValue tf.Tensor(11.801041407523803, shape=(), dtype=float64) \t 0.5900520703761901\n",
      "CurrentValue tf.Tensor(10.98510066613039, shape=(), dtype=float64) \t 1.1098045001639\n",
      "CurrentValue tf.Tensor(10.11325414618476, shape=(), dtype=float64) \t 1.559976982464943\n",
      "CurrentValue tf.Tensor(8.66594020527003, shape=(), dtype=float64) \t 1.9152751436051971\n",
      "CurrentValue tf.Tensor(12.586183851239685, shape=(), dtype=float64) \t 2.4488205789869215\n",
      "CurrentValue tf.Tensor(9.302771098225087, shape=(), dtype=float64) \t 2.7915181049488296\n",
      "CurrentValue tf.Tensor(10.21963813293141, shape=(), dtype=float64) \t 3.1629241063479583\n",
      "CurrentValue tf.Tensor(9.502128103349985, shape=(), dtype=float64) \t 3.4798843061980596\n",
      "CurrentValue tf.Tensor(12.31605441702235, shape=(), dtype=float64) \t 3.9216928117392738\n",
      "CurrentValue tf.Tensor(11.395122485282734, shape=(), dtype=float64) \t 4.295364295416446\n",
      "CurrentValue tf.Tensor(10.570145827574114, shape=(), dtype=float64) \t 4.609103372024329\n",
      "CurrentValue tf.Tensor(9.827337564924512, shape=(), dtype=float64) \t 4.8700150816693375\n",
      "CurrentValue tf.Tensor(10.482672138605139, shape=(), dtype=float64) \t 5.150647934516128\n",
      "CurrentValue tf.Tensor(10.39211453696098, shape=(), dtype=float64) \t 5.41272126463837\n",
      "CurrentValue tf.Tensor(10.58494252394214, shape=(), dtype=float64) \t 5.671332327603558\n",
      "CurrentValue tf.Tensor(8.986170497691937, shape=(), dtype=float64) \t 5.837074236107976\n",
      "CurrentValue tf.Tensor(10.858463337350354, shape=(), dtype=float64) \t 6.088143691170095\n",
      "CurrentValue tf.Tensor(9.910494354069709, shape=(), dtype=float64) \t 6.279261224315076\n",
      "CurrentValue tf.Tensor(9.787135509826586, shape=(), dtype=float64) \t 6.45465493859065\n",
      "CurrentValue tf.Tensor(9.806729837493922, shape=(), dtype=float64) \t 6.622258683535813\n",
      "CurrentValue tf.Tensor(11.354226326945042, shape=(), dtype=float64) \t 6.858857065706275\n",
      "CurrentValue tf.Tensor(9.264499975594887, shape=(), dtype=float64) \t 6.979139211200705\n",
      "CurrentValue tf.Tensor(10.820258713345435, shape=(), dtype=float64) \t 7.1711951863079415\n",
      "CurrentValue tf.Tensor(10.005960415792005, shape=(), dtype=float64) \t 7.312933447782144\n",
      "CurrentValue tf.Tensor(8.146976978489974, shape=(), dtype=float64) \t 7.354635624317535\n",
      "CurrentValue tf.Tensor(9.332754368101883, shape=(), dtype=float64) \t 7.453541561506752\n",
      "CurrentValue tf.Tensor(9.74076677371374, shape=(), dtype=float64) \t 7.567902822117101\n",
      "CurrentValue tf.Tensor(8.809623848249101, shape=(), dtype=float64) \t 7.6299888734237005\n",
      "CurrentValue tf.Tensor(8.749253684337816, shape=(), dtype=float64) \t 7.685952113969407\n",
      "CurrentValue tf.Tensor(10.701303698944063, shape=(), dtype=float64) \t 7.836719693218138\n",
      "CurrentValue tf.Tensor(9.728544510610327, shape=(), dtype=float64) \t 7.9313109340877475\n",
      "CurrentValue tf.Tensor(10.34010679983948, shape=(), dtype=float64) \t 8.051750727375333\n",
      "CurrentValue tf.Tensor(10.29086409099132, shape=(), dtype=float64) \t 8.163706395556133\n",
      "CurrentValue tf.Tensor(10.467420354398934, shape=(), dtype=float64) \t 8.278892093498273\n",
      "CurrentValue tf.Tensor(10.17324611062635, shape=(), dtype=float64) \t 8.373609794354676\n",
      "CurrentValue tf.Tensor(9.590209215357817, shape=(), dtype=float64) \t 8.434439765404832\n",
      "CurrentValue tf.Tensor(8.966702375995988, shape=(), dtype=float64) \t 8.461052895934388\n",
      "CurrentValue tf.Tensor(9.416235455726952, shape=(), dtype=float64) \t 8.508812023924017\n",
      "CurrentValue tf.Tensor(9.231480798287105, shape=(), dtype=float64) \t 8.544945462642172\n",
      "CurrentValue tf.Tensor(10.333900543516172, shape=(), dtype=float64) \t 8.634393216685872\n",
      "CurrentValue tf.Tensor(10.68153451193247, shape=(), dtype=float64) \t 8.736750281448202\n",
      "CurrentValue tf.Tensor(9.128229374302562, shape=(), dtype=float64) \t 8.75632423609092\n",
      "CurrentValue tf.Tensor(9.648821553270432, shape=(), dtype=float64) \t 8.800949101949895\n",
      "CurrentValue tf.Tensor(10.507511186582954, shape=(), dtype=float64) \t 8.886277206181546\n",
      "CurrentValue tf.Tensor(10.369460313872594, shape=(), dtype=float64) \t 8.960436361566098\n",
      "CurrentValue tf.Tensor(9.40543130222266, shape=(), dtype=float64) \t 8.982686108598926\n",
      "CurrentValue tf.Tensor(10.096932573236602, shape=(), dtype=float64) \t 9.03839843183081\n",
      "CurrentValue tf.Tensor(9.786481755467387, shape=(), dtype=float64) \t 9.075802598012638\n",
      "CurrentValue tf.Tensor(10.150279884633202, shape=(), dtype=float64) \t 9.129526462343666\n",
      "CurrentValue tf.Tensor(9.88026600339498, shape=(), dtype=float64) \t 9.167063439396232\n",
      "CurrentValue tf.Tensor(10.86860475158027, shape=(), dtype=float64) \t 9.252140505005434\n",
      "CurrentValue tf.Tensor(9.368158916196979, shape=(), dtype=float64) \t 9.257941425565011\n",
      "CurrentValue tf.Tensor(10.141230802049387, shape=(), dtype=float64) \t 9.30210589438923\n",
      "CurrentValue tf.Tensor(9.23177037041581, shape=(), dtype=float64) \t 9.298589118190558\n",
      "CurrentValue tf.Tensor(8.833134539726602, shape=(), dtype=float64) \t 9.27531638926736\n",
      "CurrentValue tf.Tensor(8.118774259682777, shape=(), dtype=float64) \t 9.21748928278813\n",
      "CurrentValue tf.Tensor(10.995814035973728, shape=(), dtype=float64) \t 9.30640552044741\n",
      "CurrentValue tf.Tensor(11.0878404227333, shape=(), dtype=float64) \t 9.395477265561704\n",
      "CurrentValue tf.Tensor(10.85245518254483, shape=(), dtype=float64) \t 9.46832616141086\n",
      "CurrentValue tf.Tensor(10.347774616133941, shape=(), dtype=float64) \t 9.512298584147013\n",
      "CurrentValue tf.Tensor(10.04896806094769, shape=(), dtype=float64) \t 9.539132057987047\n",
      "CurrentValue tf.Tensor(10.505715469898542, shape=(), dtype=float64) \t 9.58746122858262\n",
      "CurrentValue tf.Tensor(9.391130472782477, shape=(), dtype=float64) \t 9.577644690792614\n",
      "CurrentValue tf.Tensor(8.065656334478634, shape=(), dtype=float64) \t 9.502045272976915\n",
      "CurrentValue tf.Tensor(9.278754618719635, shape=(), dtype=float64) \t 9.49088074026405\n",
      "CurrentValue tf.Tensor(10.24811415454548, shape=(), dtype=float64) \t 9.52874241097812\n",
      "CurrentValue tf.Tensor(10.919480559275605, shape=(), dtype=float64) \t 9.598279318392994\n",
      "CurrentValue tf.Tensor(9.676649370806995, shape=(), dtype=float64) \t 9.602197821013693\n",
      "CurrentValue tf.Tensor(11.661454038869683, shape=(), dtype=float64) \t 9.705160631906493\n",
      "CurrentValue tf.Tensor(9.235395428864653, shape=(), dtype=float64) \t 9.6816723717544\n",
      "CurrentValue tf.Tensor(9.048589005972222, shape=(), dtype=float64) \t 9.650018203465292\n",
      "CurrentValue tf.Tensor(9.415195335569141, shape=(), dtype=float64) \t 9.638277060070484\n",
      "CurrentValue tf.Tensor(10.711652757001286, shape=(), dtype=float64) \t 9.691945844917024\n",
      "CurrentValue tf.Tensor(8.910388074956213, shape=(), dtype=float64) \t 9.652867956418984\n",
      "CurrentValue tf.Tensor(8.778821699465272, shape=(), dtype=float64) \t 9.609165643571298\n",
      "CurrentValue tf.Tensor(10.790841139513907, shape=(), dtype=float64) \t 9.668249418368429\n",
      "CurrentValue tf.Tensor(10.430307620184182, shape=(), dtype=float64) \t 9.706352328459216\n",
      "CurrentValue tf.Tensor(8.208209472474673, shape=(), dtype=float64) \t 9.631445185659988\n",
      "CurrentValue tf.Tensor(9.542097501423504, shape=(), dtype=float64) \t 9.626977801448163\n",
      "CurrentValue tf.Tensor(7.593442885923629, shape=(), dtype=float64) \t 9.525301055671935\n",
      "CurrentValue tf.Tensor(11.35754937092464, shape=(), dtype=float64) \t 9.61691347143457\n",
      "CurrentValue tf.Tensor(10.537374160579295, shape=(), dtype=float64) \t 9.662936505891807\n",
      "CurrentValue tf.Tensor(11.262745752181063, shape=(), dtype=float64) \t 9.742926968206268\n",
      "CurrentValue tf.Tensor(10.557100364092346, shape=(), dtype=float64) \t 9.783635638000572\n",
      "CurrentValue tf.Tensor(11.466775263358372, shape=(), dtype=float64) \t 9.86779261926846\n",
      "CurrentValue tf.Tensor(10.758310736075925, shape=(), dtype=float64) \t 9.912318525108832\n",
      "CurrentValue tf.Tensor(12.348344661281594, shape=(), dtype=float64) \t 10.03411983191747\n",
      "CurrentValue tf.Tensor(10.167188317289682, shape=(), dtype=float64) \t 10.040773256186082\n",
      "CurrentValue tf.Tensor(8.733088428470777, shape=(), dtype=float64) \t 9.975389014800315\n",
      "CurrentValue tf.Tensor(7.992655001006095, shape=(), dtype=float64) \t 9.876252314110605\n",
      "CurrentValue tf.Tensor(9.5840912935215, shape=(), dtype=float64) \t 9.86164426308115\n",
      "CurrentValue tf.Tensor(10.556933047308437, shape=(), dtype=float64) \t 9.896408702292515\n",
      "CurrentValue tf.Tensor(11.344476874713576, shape=(), dtype=float64) \t 9.968812110913568\n",
      "CurrentValue tf.Tensor(9.053585057880706, shape=(), dtype=float64) \t 9.923050758261926\n",
      "CurrentValue tf.Tensor(9.605275862006343, shape=(), dtype=float64) \t 9.907162013449145\n",
      "CurrentValue tf.Tensor(10.241628652225087, shape=(), dtype=float64) \t 9.92388534538794\n",
      "CurrentValue tf.Tensor(9.873582557142335, shape=(), dtype=float64) \t 9.921370205975661\n",
      "CurrentValue tf.Tensor(9.400770416152001, shape=(), dtype=float64) \t 9.895340216484477\n",
      "CurrentValue tf.Tensor(9.42977494255258, shape=(), dtype=float64) \t 9.872061952787881\n",
      "CurrentValue tf.Tensor(11.487272662437208, shape=(), dtype=float64) \t 9.952822488270348\n",
      "<tf.Variable 'Variable:0' shape=() dtype=float64, numpy=9.952822488270348>\n"
     ]
    }
   ],
   "source": [
    "alpha : tf.constant = tf.constant(0.05,dtype=tf.float64)\n",
    "curr_value : tf.Variable = tf.Variable(0,dtype=tf.float64)\n",
    "prev_avg : tf.Variable  = tf.Variable(0,dtype=tf.float64)\n",
    "for i in range(len(raw_data)):\n",
    "    prev_avg = curr_value\n",
    "    curr_value =  update_avg(alpha,raw_data[i],prev_avg) \n",
    "    print(\"CurrentValue\",raw_data[i],\"\\t\",curr_value.numpy())\n",
    "print(curr_value)"
   ]
  },
  {
   "cell_type": "code",
   "execution_count": 36,
   "id": "assigned-lyric",
   "metadata": {},
   "outputs": [
    {
     "name": "stdout",
     "output_type": "stream",
     "text": [
      "<class 'tensorflow.python.framework.ops.EagerTensor'>\n",
      "<class 'tensorflow.python.framework.ops.EagerTensor'>\n"
     ]
    }
   ],
   "source": [
    "#using tensorboard  to visualize\n",
    "img = tf.Variable(0)\n",
    "cost = tf.reduce_sum(0)\n",
    "img_summary = tf.summary.image(\"img\",data=img)\n",
    "my_cost_summary = tf.summary.scalar(\"cost\",cost)\n",
    "print(type(img_summary))\n",
    "print(type(my_cost_summary))"
   ]
  },
  {
   "cell_type": "code",
   "execution_count": 39,
   "id": "patient-hungarian",
   "metadata": {},
   "outputs": [
    {
     "name": "stdout",
     "output_type": "stream",
     "text": [
      "10.283558 0.5141779\n",
      "9.841242 0.9805311\n",
      "10.883953 1.4757023\n",
      "9.010803 1.8524573\n",
      "10.907809 2.305225\n",
      "9.734668 2.676697\n",
      "10.6657915 3.0761518\n",
      "9.455666 3.3951275\n",
      "7.810736 3.615908\n",
      "8.78757 3.874491\n",
      "8.297332 4.095633\n",
      "10.645034 4.423103\n",
      "8.756785 4.6397867\n",
      "11.040975 4.959846\n",
      "9.5995455 5.1918306\n",
      "10.854326 5.4749556\n",
      "10.111304 5.706773\n",
      "9.251627 5.884015\n",
      "9.950128 6.0873203\n",
      "9.694251 6.267667\n",
      "8.942211 6.401394\n",
      "11.340573 6.6483526\n",
      "10.325134 6.832192\n",
      "11.027009 7.041933\n",
      "9.012266 7.14045\n",
      "9.6796255 7.2674084\n",
      "9.485533 7.3783145\n",
      "9.441112 7.481454\n",
      "11.188225 7.6667924\n",
      "12.091152 7.88801\n",
      "10.208784 8.004048\n",
      "10.748432 8.141267\n",
      "9.217498 8.195078\n",
      "11.009631 8.335806\n",
      "10.826421 8.460337\n",
      "10.596495 8.567144\n",
      "9.433962 8.610485\n",
      "12.786341 8.819277\n",
      "11.180507 8.937339\n",
      "9.423307 8.9616375\n",
      "9.180794 8.972595\n",
      "10.497791 9.048855\n",
      "8.999922 9.046408\n",
      "10.52282 9.120229\n",
      "7.090215 9.018727\n",
      "9.957925 9.065687\n",
      "8.503763 9.037591\n",
      "11.716739 9.171549\n",
      "10.504207 9.238182\n",
      "10.295667 9.291056\n",
      "10.549723 9.353989\n",
      "11.03191 9.437884\n",
      "10.06264 9.469122\n",
      "10.259527 9.508642\n",
      "9.650249 9.515722\n",
      "11.169036 9.598388\n",
      "8.636175 9.550277\n",
      "9.839014 9.5647135\n",
      "10.330975 9.603026\n",
      "9.083906 9.57707\n",
      "10.44778 9.620606\n",
      "10.927728 9.685963\n",
      "9.503129 9.676821\n",
      "10.362268 9.711093\n",
      "8.919696 9.671523\n",
      "10.467429 9.711319\n",
      "10.94219 9.772862\n",
      "10.75473 9.821956\n",
      "10.458639 9.85379\n",
      "13.509416 10.036571\n",
      "11.044943 10.086989\n",
      "10.554197 10.11035\n",
      "10.406352 10.12515\n",
      "9.814767 10.10963\n",
      "8.795148 10.043905\n",
      "8.697831 9.976602\n",
      "10.889059 10.022224\n",
      "9.250228 9.983624\n",
      "9.729005 9.970893\n",
      "9.4871235 9.946705\n",
      "10.167264 9.957732\n",
      "9.155752 9.917633\n",
      "9.2425375 9.883878\n",
      "10.638715 9.921619\n",
      "9.477318 9.899404\n",
      "9.972946 9.903081\n",
      "10.587859 9.93732\n",
      "10.2283125 9.951869\n",
      "9.318138 9.920182\n",
      "11.603599 10.004354\n",
      "10.263647 10.017319\n",
      "8.336076 9.933256\n",
      "9.817867 9.927486\n",
      "11.56227 10.009226\n",
      "11.583675 10.087948\n",
      "11.453387 10.1562195\n",
      "10.336405 10.165228\n",
      "9.051168 10.109525\n",
      "10.839036 10.146001\n",
      "9.35028 10.106215\n"
     ]
    }
   ],
   "source": [
    "# Testing Gan\n",
    "raw_data : tf.Tensor = tf.convert_to_tensor(np.random.normal(10,1,100),dtype=tf.float32)\n",
    "alpha : tf.constant = tf.constant(0.05,dtype=tf.float32)\n",
    "curr_val : tf.Variable = tf.Variable(0, dtype =tf.float32)\n",
    "prev_avg : tf.Variable = tf.Variable(0, dtype = tf.float32)\n",
    "\n",
    "writer = tf.summary.create_file_writer(\"./logs\")\n",
    "with writer.as_default() as fuf:\n",
    "    for i in range(len(raw_data)):\n",
    "        curr_val = update_avg(alpha,raw_data[i],prev_avg)\n",
    "        prev_avg = curr_val\n",
    "        print(raw_data[i].numpy(),curr_val.numpy())\n",
    "        tf.summary.scalar(\"Running Avg\",curr_val,step=i)\n",
    "        tf.summary.scalar(\"Incoming Avg\",raw_data[i],step=i)\n",
    "        writer.flush()"
   ]
  },
  {
   "attachments": {},
   "cell_type": "markdown",
   "id": "sudden-lemon",
   "metadata": {},
   "source": [
    "#### put this on environtment\n",
    "tensorboard --logdir=\".\\logs\""
   ]
  },
  {
   "cell_type": "markdown",
   "id": "legendary-penguin",
   "metadata": {},
   "source": [
    " Summary From Here :\n",
    " \n",
    " tf.Variable -> Mutable \n",
    " tf.constant -> Immutable\n",
    " tf.Tensor -> Data Type for tensorflow\n",
    " Tensorboard --> For visualizing data passed \n",
    " Use @tf.function for function that will used on tensor dataset\n",
    " -- variable can be saved and loaded < Think of weights on NN)\n",
    " -- always specifiy data type for tensorflow\n",
    " Tensor variable support slicing and have behavior like numpy but different methods"
   ]
  },
  {
   "cell_type": "code",
   "execution_count": 20,
   "id": "available-things",
   "metadata": {},
   "outputs": [
    {
     "name": "stdout",
     "output_type": "stream",
     "text": [
      "Variable     Type                Data/Info\n",
      "------------------------------------------\n",
      "exam         ResourceVariable    <tf.Variable 'Variable:0'<...>=() dtype=int32, numpy=3>\n",
      "i            int                 6\n",
      "raw_data     list                n=7\n",
      "spike        ResourceVariable    <tf.Variable 'Variable:0'<...>) dtype=bool, numpy=True>\n",
      "tf           module              <module 'tensorflow' from<...>tensorflow\\\\__init__.py'>\n",
      "update_avg   Function            <tensorflow.python.eager.<...>ct at 0x0000021C510E1518>\n"
     ]
    }
   ],
   "source": [
    "%whos"
   ]
  },
  {
   "cell_type": "code",
   "execution_count": null,
   "id": "literary-session",
   "metadata": {},
   "outputs": [],
   "source": [
    "## "
   ]
  },
  {
   "cell_type": "code",
   "execution_count": null,
   "id": "beautiful-lemon",
   "metadata": {},
   "outputs": [],
   "source": [
    "## "
   ]
  },
  {
   "cell_type": "code",
   "execution_count": null,
   "id": "graphic-china",
   "metadata": {},
   "outputs": [],
   "source": []
  }
 ],
 "metadata": {
  "kernelspec": {
   "display_name": "Python 3",
   "language": "python",
   "name": "python3"
  },
  "language_info": {
   "codemirror_mode": {
    "name": "ipython",
    "version": 3
   },
   "file_extension": ".py",
   "mimetype": "text/x-python",
   "name": "python",
   "nbconvert_exporter": "python",
   "pygments_lexer": "ipython3",
   "version": "3.6.12"
  }
 },
 "nbformat": 4,
 "nbformat_minor": 5
}
