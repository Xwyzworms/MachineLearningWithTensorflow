{
 "cells": [
  {
   "cell_type": "code",
   "execution_count": 2,
   "id": "recorded-imaging",
   "metadata": {},
   "outputs": [
    {
     "data": {
      "text/plain": [
       "5"
      ]
     },
     "execution_count": 2,
     "metadata": {},
     "output_type": "execute_result"
    }
   ],
   "source": [
    "revenue = 0\n",
    "prices = [1,2]\n",
    "amounts= [1,2]\n",
    "for price,amount in zip(prices,amounts):\n",
    "    revenue += price * amount\n",
    "revenue"
   ]
  },
  {
   "cell_type": "code",
   "execution_count": 4,
   "id": "fewer-postage",
   "metadata": {},
   "outputs": [
    {
     "data": {
      "text/plain": [
       "5"
      ]
     },
     "execution_count": 4,
     "metadata": {},
     "output_type": "execute_result"
    }
   ],
   "source": [
    "import numpy as np\n",
    "revenue = np.dot(prices,amounts)\n",
    "revenue"
   ]
  },
  {
   "cell_type": "code",
   "execution_count": 5,
   "id": "professional-uruguay",
   "metadata": {},
   "outputs": [
    {
     "name": "stdout",
     "output_type": "stream",
     "text": [
      "2.1.0\n"
     ]
    }
   ],
   "source": [
    "import tensorflow as tf\n",
    "print(tf.__version__)"
   ]
  },
  {
   "cell_type": "code",
   "execution_count": 10,
   "id": "chubby-mercy",
   "metadata": {},
   "outputs": [
    {
     "name": "stdout",
     "output_type": "stream",
     "text": [
      "<class 'list'>\n",
      "<class 'numpy.ndarray'>\n",
      "<class 'tensorflow.python.framework.ops.EagerTensor'>\n",
      "<class 'tensorflow.python.framework.ops.EagerTensor'>\n",
      "<class 'tensorflow.python.framework.ops.EagerTensor'>\n",
      "<class 'tensorflow.python.framework.ops.EagerTensor'>\n"
     ]
    }
   ],
   "source": [
    "m1 = [[1,2,3,4]]\n",
    "m2 = np.array([[1,2,3,4]],dtype=np.float32)\n",
    "m3 = tf.constant([[1.0,2.0,3.0,4.0]],dtype=tf.float32)\n",
    "print(type(m1))\n",
    "print(type(m2))\n",
    "print(type(m3))\n",
    "\n",
    "t1 = tf.convert_to_tensor(m1,dtype=tf.float32)\n",
    "t2 = tf.convert_to_tensor(m2,dtype=tf.float32)\n",
    "t3 = tf.convert_to_tensor(m3,dtype=tf.float32)\n",
    "print(type(t1))\n",
    "print(type(t2))\n",
    "print(type(t3))\n"
   ]
  },
  {
   "cell_type": "code",
   "execution_count": 11,
   "id": "unusual-nursing",
   "metadata": {},
   "outputs": [
    {
     "name": "stdout",
     "output_type": "stream",
     "text": [
      "tf.Tensor([1 2], shape=(2,), dtype=int32)\n"
     ]
    }
   ],
   "source": [
    "t1 = tf.constant([1,2],name=\"kindergaten\")\n",
    "print(t1)"
   ]
  },
  {
   "cell_type": "code",
   "execution_count": 14,
   "id": "every-light",
   "metadata": {},
   "outputs": [
    {
     "data": {
      "text/plain": [
       "<tf.Tensor: shape=(500, 500), dtype=float32, numpy=\n",
       "array([[0.5, 0.5, 0.5, ..., 0.5, 0.5, 0.5],\n",
       "       [0.5, 0.5, 0.5, ..., 0.5, 0.5, 0.5],\n",
       "       [0.5, 0.5, 0.5, ..., 0.5, 0.5, 0.5],\n",
       "       ...,\n",
       "       [0.5, 0.5, 0.5, ..., 0.5, 0.5, 0.5],\n",
       "       [0.5, 0.5, 0.5, ..., 0.5, 0.5, 0.5],\n",
       "       [0.5, 0.5, 0.5, ..., 0.5, 0.5, 0.5]], dtype=float32)>"
      ]
     },
     "execution_count": 14,
     "metadata": {},
     "output_type": "execute_result"
    }
   ],
   "source": [
    "tf.ones(shape=(500,500) )* 0.5"
   ]
  },
  {
   "cell_type": "code",
   "execution_count": 16,
   "id": "duplicate-chain",
   "metadata": {},
   "outputs": [
    {
     "data": {
      "text/plain": [
       "<tf.Tensor: shape=(1, 2), dtype=int32, numpy=array([[-1, -2]])>"
      ]
     },
     "execution_count": 16,
     "metadata": {},
     "output_type": "execute_result"
    }
   ],
   "source": [
    "simple = tf.constant([[1,2]])\n",
    "simple = -simple\n",
    "simple"
   ]
  },
  {
   "cell_type": "code",
   "execution_count": 19,
   "id": "running-rebecca",
   "metadata": {},
   "outputs": [],
   "source": [
    "from math import pi\n",
    "def generate_gaussian(X,mean,std):\n",
    "    coef = 1 / (std * tf.sqrt(2*pi))\n",
    "    exparg = -(1/2) * tf.pow(((X-mean) / std),2)\n",
    "    exp = tf.exp(exparg)\n",
    "    return coef * exp"
   ]
  },
  {
   "cell_type": "code",
   "execution_count": 20,
   "id": "needed-reliance",
   "metadata": {},
   "outputs": [
    {
     "data": {
      "text/plain": [
       "<tf.Tensor: shape=(), dtype=float32, numpy=0.24197073>"
      ]
     },
     "execution_count": 20,
     "metadata": {},
     "output_type": "execute_result"
    }
   ],
   "source": [
    "generate_gaussian(2,1,1)"
   ]
  },
  {
   "cell_type": "code",
   "execution_count": 25,
   "id": "wicked-specialist",
   "metadata": {},
   "outputs": [
    {
     "name": "stdout",
     "output_type": "stream",
     "text": [
      "[[-1. -2.]]\n"
     ]
    }
   ],
   "source": [
    "# Section Using Tf 1.0\n",
    "\n",
    "with tf.compat.v1.Session() as sess:\n",
    "    x = tf.constant([[1.,2.]])\n",
    "    neg = tf.negative(x)\n",
    "    result = sess.run(neg)\n",
    "print(result)"
   ]
  },
  {
   "cell_type": "code",
   "execution_count": 26,
   "id": "framed-closer",
   "metadata": {},
   "outputs": [
    {
     "name": "stdout",
     "output_type": "stream",
     "text": [
      "[[-1 -2]]\n"
     ]
    }
   ],
   "source": [
    "# Section use Tf 2.0\n",
    "x = tf.constant([[1,2]])\n",
    "neg_mat = -x\n",
    "print(neg_mat.numpy())\n"
   ]
  },
  {
   "cell_type": "markdown",
   "id": "recognized-bleeding",
   "metadata": {},
   "source": [
    "## Core Tensorflow \n",
    "#### Placeholder -- Biasa untuk input dan output\n",
    "#### Variable -- Mutable\n",
    "#### Constant -- Immutable"
   ]
  },
  {
   "cell_type": "code",
   "execution_count": 28,
   "id": "grateful-madison",
   "metadata": {},
   "outputs": [
    {
     "name": "stdout",
     "output_type": "stream",
     "text": [
      "WARNING:tensorflow:From C:\\Users\\xwyzworm\\anaconda3\\envs\\DataScience\\lib\\site-packages\\tensorflow_core\\python\\compat\\v2_compat.py:88: disable_resource_variables (from tensorflow.python.ops.variable_scope) is deprecated and will be removed in a future version.\n",
      "Instructions for updating:\n",
      "non-resource variables are not supported in the long term\n"
     ]
    }
   ],
   "source": [
    "import tensorflow.compat.v1 as tf1\n",
    "tf1.disable_v2_behavior()"
   ]
  },
  {
   "cell_type": "code",
   "execution_count": 30,
   "id": "burning-southwest",
   "metadata": {},
   "outputs": [
    {
     "name": "stdout",
     "output_type": "stream",
     "text": [
      "[-1 -2]\n"
     ]
    }
   ],
   "source": [
    "sess = tf1.compat.v1.InteractiveSession()\n",
    "x = tf.constant([1,2])\n",
    "negMatrix = -x\n",
    "result = negMatrix.eval()\n",
    "print(result)\n",
    "sess.close()"
   ]
  },
  {
   "cell_type": "code",
   "execution_count": 35,
   "id": "personalized-musician",
   "metadata": {},
   "outputs": [
    {
     "name": "stdout",
     "output_type": "stream",
     "text": [
      "2.1.0\n"
     ]
    }
   ],
   "source": [
    "import tensorflow as tf\n",
    "print(tf.__version__)"
   ]
  },
  {
   "cell_type": "code",
   "execution_count": 1,
   "id": "sophisticated-license",
   "metadata": {},
   "outputs": [
    {
     "name": "stdout",
     "output_type": "stream",
     "text": [
      "tf.Tensor([1 2], shape=(2,), dtype=int32)\n"
     ]
    }
   ],
   "source": [
    "#Tensorflow automatically determines using cpu or gpu for doing such operations\n",
    "import tensorflow as tf\n",
    "tf.debugging.set_log_device_placement(True)\n",
    "x = tf.constant([1,2])\n",
    "print(x)"
   ]
  },
  {
   "cell_type": "code",
   "execution_count": 4,
   "id": "hearing-community",
   "metadata": {},
   "outputs": [
    {
     "name": "stdout",
     "output_type": "stream",
     "text": [
      "Spike False\n",
      "Spike False\n",
      "Spike False\n",
      "Spike False\n",
      "Spike False\n",
      "Spike True\n",
      "<class 'tensorflow.python.ops.resource_variable_ops.ResourceVariable'>\n"
     ]
    }
   ],
   "source": [
    "#using tf variables\n",
    "raw_data = [1,2,3,4,9,6,13]\n",
    "spike = tf.Variable(False)\n",
    "\n",
    "for i in range(1,len(raw_data)):\n",
    "    if raw_data[i] - raw_data[i-1] > 5:\n",
    "        spike.assign(True)\n",
    "    else:\n",
    "        spike.assign(False)\n",
    "    print(f\"Spike {spike.numpy()}\")\n",
    "print(type(spike))"
   ]
  },
  {
   "cell_type": "code",
   "execution_count": 9,
   "id": "mediterranean-asian",
   "metadata": {},
   "outputs": [
    {
     "name": "stdout",
     "output_type": "stream",
     "text": [
      "Saved Checkpoint at : ./tf_checkpoinVar\\ckpt-1\n",
      "Saved Checkpoint at : ./tf_checkpoinVar\\ckpt-2\n",
      "Saved Checkpoint at : ./tf_checkpoinVar\\ckpt-3\n",
      "[False  True  True  True False False False]\n"
     ]
    }
   ],
   "source": [
    "# Saving Variables\n",
    "raw_dat = [1,9,8,9,1,3,6]\n",
    "spikes = tf.Variable([False] * len(raw_dat),name=\"spikes\") # Behaviour different with other variables\n",
    "\n",
    "checkPoint = tf.train.Checkpoint(spikes=spikes)\n",
    "manager = tf.train.CheckpointManager(checkPoint, './tf_checkpoinVar',max_to_keep=3)\n",
    "\n",
    "spikes_Val = [False for i in range(0,len(raw_dat))] # Need to generate before assigned data to spikes\n",
    "\n",
    "for i in range(1,len(raw_dat)):\n",
    "    if raw_dat[i] - raw_data[i-1] > 5 :\n",
    "        spikes_Val[i] = True\n",
    "        spikes.assign(spikes_Val)\n",
    "        save_path = manager.save()\n",
    "        print(\"Saved Checkpoint at : %s\"% save_path)\n",
    "print(spikes.numpy())"
   ]
  },
  {
   "cell_type": "code",
   "execution_count": 13,
   "id": "taken-consumer",
   "metadata": {},
   "outputs": [
    {
     "name": "stdout",
     "output_type": "stream",
     "text": [
      "Restored from ./tf_checkpoinVar\\ckpt-3\n",
      "<tensorflow.python.training.tracking.util.CheckpointLoadStatus object at 0x000001B84DB88278>\n",
      "<tf.Variable 'spikes:0' shape=(7,) dtype=bool, numpy=array([False,  True,  True,  True, False, False, False])>\n"
     ]
    }
   ],
   "source": [
    "# Loading Tf Variables\n",
    "checkPoint.restore(manager.latest_checkpoint)\n",
    "if manager.latest_checkpoint:\n",
    "    print(\"Restored from %s\" % manager.latest_checkpoint)\n",
    "to_restore = tf.Variable([False] * len(raw_dat),name=\"spikes\")\n",
    "restored =tf.train.Checkpoint(spikes = to_restore)\n",
    "status = restored.restore(tf.train.latest_checkpoint(\"./tf_checkpoinVar\"))\n",
    "print(to_restore)"
   ]
  },
  {
   "cell_type": "code",
   "execution_count": null,
   "id": "cardiovascular-archive",
   "metadata": {},
   "outputs": [],
   "source": []
  },
  {
   "cell_type": "code",
   "execution_count": null,
   "id": "finished-oklahoma",
   "metadata": {},
   "outputs": [],
   "source": []
  },
  {
   "cell_type": "code",
   "execution_count": null,
   "id": "available-things",
   "metadata": {},
   "outputs": [],
   "source": []
  },
  {
   "cell_type": "code",
   "execution_count": null,
   "id": "literary-session",
   "metadata": {},
   "outputs": [],
   "source": [
    "## "
   ]
  },
  {
   "cell_type": "code",
   "execution_count": null,
   "id": "beautiful-lemon",
   "metadata": {},
   "outputs": [],
   "source": [
    "## "
   ]
  },
  {
   "cell_type": "code",
   "execution_count": null,
   "id": "graphic-china",
   "metadata": {},
   "outputs": [],
   "source": []
  }
 ],
 "metadata": {
  "kernelspec": {
   "display_name": "Python 3",
   "language": "python",
   "name": "python3"
  },
  "language_info": {
   "codemirror_mode": {
    "name": "ipython",
    "version": 3
   },
   "file_extension": ".py",
   "mimetype": "text/x-python",
   "name": "python",
   "nbconvert_exporter": "python",
   "pygments_lexer": "ipython3",
   "version": "3.6.12"
  }
 },
 "nbformat": 4,
 "nbformat_minor": 5
}
